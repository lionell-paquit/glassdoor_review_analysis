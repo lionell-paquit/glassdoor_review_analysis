{
 "cells": [
  {
   "cell_type": "markdown",
   "metadata": {},
   "source": [
    "# Text Analysis on Glassdoor Reviews"
   ]
  },
  {
   "cell_type": "markdown",
   "metadata": {},
   "source": [
    "<span>\n",
    "    <img src=\"../images/glassdoor_logo.png\" height=\"100\" width=\"100\">\n",
    "    <img src=\"../images/xero_logo.png\" height=\"100\" width=\"100\">\n",
    "</span>"
   ]
  },
  {
   "cell_type": "code",
   "execution_count": 1,
   "metadata": {},
   "outputs": [
    {
     "name": "stderr",
     "output_type": "stream",
     "text": [
      "\n",
      "Attaching package: 'purrr'\n",
      "\n",
      "The following object is masked from 'package:rvest':\n",
      "\n",
      "    pluck\n",
      "\n"
     ]
    }
   ],
   "source": [
    "### Packages ###\n",
    "library(xml2)       #convert to XML document: read_html()\n",
    "library(rvest)      #scrape\n",
    "library(purrr)      #iterate scraping by map_df()"
   ]
  },
  {
   "cell_type": "code",
   "execution_count": 2,
   "metadata": {},
   "outputs": [],
   "source": [
    "## Set URL details\n",
    "company <- \"Xero-Reviews-E318448\"   #You can just change this value to any company you want to scrape\n",
    "baseurl <- \"https://www.glassdoor.com/Reviews/\"\n",
    "sort <- \".htm?sort.sortType=RD&sort.ascending=true\""
   ]
  },
  {
   "cell_type": "code",
   "execution_count": 3,
   "metadata": {},
   "outputs": [],
   "source": [
    "# This will check the total number of reviews and determine the maximum page results to iterate over.\n",
    "totalReviews <- read_html(paste(baseurl, company, sort, sep = \"\")) %>%\n",
    "  html_nodes(\"h2.col-6\") %>%\n",
    "  html_text() %>%\n",
    "  sub(\".*?([0-9]+).*\", \"\\\\1\", .) %>%  # remove text from string and retain the total review value\n",
    "  as.integer()"
   ]
  },
  {
   "cell_type": "code",
   "execution_count": 6,
   "metadata": {},
   "outputs": [
    {
     "data": {
      "text/html": [
       "324"
      ],
      "text/latex": [
       "324"
      ],
      "text/markdown": [
       "324"
      ],
      "text/plain": [
       "[1] 324"
      ]
     },
     "metadata": {},
     "output_type": "display_data"
    }
   ],
   "source": [
    "totalReviews"
   ]
  },
  {
   "cell_type": "code",
   "execution_count": 7,
   "metadata": {},
   "outputs": [],
   "source": [
    "maxresults <- as.integer(ceiling(totalReviews/10))     #10 reviews per page, round up to whole number"
   ]
  },
  {
   "cell_type": "code",
   "execution_count": 9,
   "metadata": {},
   "outputs": [
    {
     "data": {
      "text/html": [
       "33"
      ],
      "text/latex": [
       "33"
      ],
      "text/markdown": [
       "33"
      ],
      "text/plain": [
       "[1] 33"
      ]
     },
     "metadata": {},
     "output_type": "display_data"
    }
   ],
   "source": [
    "maxresults"
   ]
  },
  {
   "cell_type": "code",
   "execution_count": 10,
   "metadata": {},
   "outputs": [
    {
     "name": "stdout",
     "output_type": "stream",
     "text": [
      "P 1  P 2  P 3  P 4  P 5  P 6  P 7  P 8  P 9  P 10  P 11  P 12  P 13  P 14  P 15  P 16  P 17  P 18  P 19  P 20  P 21  P 22  P 23  P 24  P 25  P 26  P 27  P 28  P 29  P 30  P 31  P 32  P 33  "
     ]
    }
   ],
   "source": [
    "### Create df by scraping: Date, Summary, Rating, Title, Pros, Cons\n",
    "### There are more information you can scrape on Glassdoor aside from what were already stated\n",
    "df <- map_df(1:maxresults, function(i) {\n",
    "\n",
    "  Sys.sleep(2)      #Time delay helps avoid errors from scrapping through pages\n",
    "  cat(\"P\",i,\" \")    #Progress indicator on what page is currently being scrape\n",
    "\n",
    "  pg <- read_html(paste(baseurl, company, \"_P\", i, sort, sep=\"\"))\n",
    "  data.frame(rev.date = html_text(html_nodes(pg, \".date.subtle.small, .featuredFlag\")),\n",
    "               rev.sum = html_text(html_nodes(pg, \".reviewLink .summary:not([class*='hidden'])\")),\n",
    "               rev.rating = html_attr(html_nodes(pg, \".gdStars.gdRatings.sm .rating .value-title\"), \"title\"),\n",
    "               rev.title = html_text(html_nodes(pg, \".authorInfo\")),\n",
    "               rev.pros = html_text(html_nodes(pg, \".mt-md:nth-child(1) .strong+ p\")),\n",
    "               rev.cons = html_text(html_nodes(pg, \".mt-md:nth-child(2) .strong+ p\")),\n",
    "               stringsAsFactors=F)\n",
    "})"
   ]
  },
  {
   "cell_type": "code",
   "execution_count": 11,
   "metadata": {
    "scrolled": false
   },
   "outputs": [
    {
     "data": {
      "text/html": [
       "<table>\n",
       "<caption>A data.frame: 6 × 6</caption>\n",
       "<thead>\n",
       "\t<tr><th scope=col>rev.date</th><th scope=col>rev.sum</th><th scope=col>rev.rating</th><th scope=col>rev.title</th><th scope=col>rev.pros</th><th scope=col>rev.cons</th></tr>\n",
       "\t<tr><th scope=col>&lt;chr&gt;</th><th scope=col>&lt;chr&gt;</th><th scope=col>&lt;chr&gt;</th><th scope=col>&lt;chr&gt;</th><th scope=col>&lt;chr&gt;</th><th scope=col>&lt;chr&gt;</th></tr>\n",
       "</thead>\n",
       "<tbody>\n",
       "\t<tr><td>May 3, 2013 </td><td>Amazingly refreshing culture. Smart, Real genuine people,loving every minute!!!</td><td>5.0</td><td>Current Employee - Anonymous Employee                                      </td><td>Awesome culture, amazing people, great product  - were just getting started!!                                                                                                                                                                                                                                                                                                                                                                  </td><td>None , seriously don't change a thing                                                                                                                           </td></tr>\n",
       "\t<tr><td>Jun 26, 2013</td><td>Newly hired, couldn't be happier with the opportunity                          </td><td>5.0</td><td>Current Employee - Direct Sales in San Francisco, CA                       </td><td>Great Interview experience from start to finish                                                                                                                                                                                                                                                                                                                                                                                                </td><td>No cons so far, everything is great so far                                                                                                                      </td></tr>\n",
       "\t<tr><td>Jul 12, 2013</td><td>Great place to work, room for growth and AWESOME culture                       </td><td>4.0</td><td>Current Employee - Account Manager in San Francisco, CA                    </td><td>The culture is awesome and I love how we really protect our brand and care about how we are perceived to the public and ensure its a positive experience for clients.                                                                                                                                                                                                                                                                          </td><td>As we grow its been difficult to maintain the close knit feel, this is part of the growth process, so if all employees keep that as a priority we will do great!</td></tr>\n",
       "\t<tr><td>Jul 24, 2013</td><td>Best company to work for in the Bay Area!                                      </td><td>5.0</td><td>Current Employee - Anonymous Employee in San Francisco, CA                 </td><td>Inspiring, compassionate and open-minded leadership. Awesome product. \r\n",
       "\r\n",
       "Where else can you speak with awesome coworkers across 4 global timezones in one day?                                                                                                                                                                                                                                                                            </td><td>Wish I had found Xero sooner.                                                                                                                                   </td></tr>\n",
       "\t<tr><td>Sep 10, 2013</td><td>New Hire - Denver, CO                                                          </td><td>5.0</td><td>Current Employee - Customer Support Specialist in Denver, CO               </td><td>I recently completed the interview process and am excited for my start date to come. I can honestly say that I've never been more excited to start a new job. It is clear that their philosophy is happy employees make great employees. I could see this in the people that I had interviewed with. They were interested in finding out who I am and what I have to offer, as opposed to how well I can answer obscure interview questions....</td><td>None that I'm aware of.                                                                                                                                         </td></tr>\n",
       "\t<tr><td>Nov 28, 2013</td><td><span style=white-space:pre-wrap>Beautiful Accounting Software, Beautiful Culture &amp; A Beautiful Career!         </span></td><td>5.0</td><td>Current Employee - Customer Experience Specialist in Milton Keynes, England</td><td><span style=white-space:pre-wrap>Amazing culture.\r\n",
       "Working with like-minded people.\r\n",
       "Fresh challenges every day.\r\n",
       "Ideas are always welcomed.\r\n",
       "Great career progression.\r\n",
       "Huge growth.\r\n",
       "Plenty of opportunities.\r\n",
       "Awesome product.\r\n",
       "Global team.\r\n",
       "\r\n",
       "\r\n",
       "\"Choose a job you love, and you will never have to work a day in your life.\" - Confucius (Think he must of worked for Xero)                                                                          </span></td><td><span style=white-space:pre-wrap>In a year and a half, I am yet to find one.                                                                                                                     </span></td></tr>\n",
       "</tbody>\n",
       "</table>\n"
      ],
      "text/latex": [
       "A data.frame: 6 × 6\n",
       "\\begin{tabular}{r|llllll}\n",
       " rev.date & rev.sum & rev.rating & rev.title & rev.pros & rev.cons\\\\\n",
       " <chr> & <chr> & <chr> & <chr> & <chr> & <chr>\\\\\n",
       "\\hline\n",
       "\t May 3, 2013  & Amazingly refreshing culture. Smart, Real genuine people,loving every minute!!! & 5.0 & Current Employee - Anonymous Employee                                       & Awesome culture, amazing people, great product  - were just getting started!!                                                                                                                                                                                                                                                                                                                                                                   & None , seriously don't change a thing                                                                                                                           \\\\\n",
       "\t Jun 26, 2013 & Newly hired, couldn't be happier with the opportunity                           & 5.0 & Current Employee - Direct Sales in San Francisco, CA                        & Great Interview experience from start to finish                                                                                                                                                                                                                                                                                                                                                                                                 & No cons so far, everything is great so far                                                                                                                      \\\\\n",
       "\t Jul 12, 2013 & Great place to work, room for growth and AWESOME culture                        & 4.0 & Current Employee - Account Manager in San Francisco, CA                     & The culture is awesome and I love how we really protect our brand and care about how we are perceived to the public and ensure its a positive experience for clients.                                                                                                                                                                                                                                                                           & As we grow its been difficult to maintain the close knit feel, this is part of the growth process, so if all employees keep that as a priority we will do great!\\\\\n",
       "\t Jul 24, 2013 & Best company to work for in the Bay Area!                                       & 5.0 & Current Employee - Anonymous Employee in San Francisco, CA                  & Inspiring, compassionate and open-minded leadership. Awesome product. \r\n",
       "\r\n",
       "Where else can you speak with awesome coworkers across 4 global timezones in one day?                                                                                                                                                                                                                                                                             & Wish I had found Xero sooner.                                                                                                                                   \\\\\n",
       "\t Sep 10, 2013 & New Hire - Denver, CO                                                           & 5.0 & Current Employee - Customer Support Specialist in Denver, CO                & I recently completed the interview process and am excited for my start date to come. I can honestly say that I've never been more excited to start a new job. It is clear that their philosophy is happy employees make great employees. I could see this in the people that I had interviewed with. They were interested in finding out who I am and what I have to offer, as opposed to how well I can answer obscure interview questions.... & None that I'm aware of.                                                                                                                                         \\\\\n",
       "\t Nov 28, 2013 & Beautiful Accounting Software, Beautiful Culture \\& A Beautiful Career!          & 5.0 & Current Employee - Customer Experience Specialist in Milton Keynes, England & Amazing culture.\r\n",
       "Working with like-minded people.\r\n",
       "Fresh challenges every day.\r\n",
       "Ideas are always welcomed.\r\n",
       "Great career progression.\r\n",
       "Huge growth.\r\n",
       "Plenty of opportunities.\r\n",
       "Awesome product.\r\n",
       "Global team.\r\n",
       "\r\n",
       "\r\n",
       "\"Choose a job you love, and you will never have to work a day in your life.\" - Confucius (Think he must of worked for Xero)                                                                           & In a year and a half, I am yet to find one.                                                                                                                     \\\\\n",
       "\\end{tabular}\n"
      ],
      "text/markdown": [
       "\n",
       "A data.frame: 6 × 6\n",
       "\n",
       "| rev.date &lt;chr&gt; | rev.sum &lt;chr&gt; | rev.rating &lt;chr&gt; | rev.title &lt;chr&gt; | rev.pros &lt;chr&gt; | rev.cons &lt;chr&gt; |\n",
       "|---|---|---|---|---|---|\n",
       "| May 3, 2013  | Amazingly refreshing culture. Smart, Real genuine people,loving every minute!!! | 5.0 | Current Employee - Anonymous Employee                                       | Awesome culture, amazing people, great product  - were just getting started!!                                                                                                                                                                                                                                                                                                                                                                   | None , seriously don't change a thing                                                                                                                            |\n",
       "| Jun 26, 2013 | Newly hired, couldn't be happier with the opportunity                           | 5.0 | Current Employee - Direct Sales in San Francisco, CA                        | Great Interview experience from start to finish                                                                                                                                                                                                                                                                                                                                                                                                 | No cons so far, everything is great so far                                                                                                                       |\n",
       "| Jul 12, 2013 | Great place to work, room for growth and AWESOME culture                        | 4.0 | Current Employee - Account Manager in San Francisco, CA                     | The culture is awesome and I love how we really protect our brand and care about how we are perceived to the public and ensure its a positive experience for clients.                                                                                                                                                                                                                                                                           | As we grow its been difficult to maintain the close knit feel, this is part of the growth process, so if all employees keep that as a priority we will do great! |\n",
       "| Jul 24, 2013 | Best company to work for in the Bay Area!                                       | 5.0 | Current Employee - Anonymous Employee in San Francisco, CA                  | Inspiring, compassionate and open-minded leadership. Awesome product. \r\n",
       "\r\n",
       "Where else can you speak with awesome coworkers across 4 global timezones in one day?                                                                                                                                                                                                                                                                             | Wish I had found Xero sooner.                                                                                                                                    |\n",
       "| Sep 10, 2013 | New Hire - Denver, CO                                                           | 5.0 | Current Employee - Customer Support Specialist in Denver, CO                | I recently completed the interview process and am excited for my start date to come. I can honestly say that I've never been more excited to start a new job. It is clear that their philosophy is happy employees make great employees. I could see this in the people that I had interviewed with. They were interested in finding out who I am and what I have to offer, as opposed to how well I can answer obscure interview questions.... | None that I'm aware of.                                                                                                                                          |\n",
       "| Nov 28, 2013 | Beautiful Accounting Software, Beautiful Culture &amp; A Beautiful Career!          | 5.0 | Current Employee - Customer Experience Specialist in Milton Keynes, England | Amazing culture.\r\n",
       "Working with like-minded people.\r\n",
       "Fresh challenges every day.\r\n",
       "Ideas are always welcomed.\r\n",
       "Great career progression.\r\n",
       "Huge growth.\r\n",
       "Plenty of opportunities.\r\n",
       "Awesome product.\r\n",
       "Global team.\r\n",
       "\r\n",
       "\r\n",
       "\"Choose a job you love, and you will never have to work a day in your life.\" - Confucius (Think he must of worked for Xero)                                                                           | In a year and a half, I am yet to find one.                                                                                                                      |\n",
       "\n"
      ],
      "text/plain": [
       "  rev.date    \n",
       "1 May 3, 2013 \n",
       "2 Jun 26, 2013\n",
       "3 Jul 12, 2013\n",
       "4 Jul 24, 2013\n",
       "5 Sep 10, 2013\n",
       "6 Nov 28, 2013\n",
       "  rev.sum                                                                        \n",
       "1 Amazingly refreshing culture. Smart, Real genuine people,loving every minute!!!\n",
       "2 Newly hired, couldn't be happier with the opportunity                          \n",
       "3 Great place to work, room for growth and AWESOME culture                       \n",
       "4 Best company to work for in the Bay Area!                                      \n",
       "5 New Hire - Denver, CO                                                          \n",
       "6 Beautiful Accounting Software, Beautiful Culture & A Beautiful Career!         \n",
       "  rev.rating\n",
       "1 5.0       \n",
       "2 5.0       \n",
       "3 4.0       \n",
       "4 5.0       \n",
       "5 5.0       \n",
       "6 5.0       \n",
       "  rev.title                                                                  \n",
       "1 Current Employee - Anonymous Employee                                      \n",
       "2 Current Employee - Direct Sales in San Francisco, CA                       \n",
       "3 Current Employee - Account Manager in San Francisco, CA                    \n",
       "4 Current Employee - Anonymous Employee in San Francisco, CA                 \n",
       "5 Current Employee - Customer Support Specialist in Denver, CO               \n",
       "6 Current Employee - Customer Experience Specialist in Milton Keynes, England\n",
       "  rev.pros                                                                                                                                                                                                                                                                                                                                                                                                                                       \n",
       "1 Awesome culture, amazing people, great product  - were just getting started!!                                                                                                                                                                                                                                                                                                                                                                  \n",
       "2 Great Interview experience from start to finish                                                                                                                                                                                                                                                                                                                                                                                                \n",
       "3 The culture is awesome and I love how we really protect our brand and care about how we are perceived to the public and ensure its a positive experience for clients.                                                                                                                                                                                                                                                                          \n",
       "4 Inspiring, compassionate and open-minded leadership. Awesome product. \\r\\n\\r\\nWhere else can you speak with awesome coworkers across 4 global timezones in one day?                                                                                                                                                                                                                                                                            \n",
       "5 I recently completed the interview process and am excited for my start date to come. I can honestly say that I've never been more excited to start a new job. It is clear that their philosophy is happy employees make great employees. I could see this in the people that I had interviewed with. They were interested in finding out who I am and what I have to offer, as opposed to how well I can answer obscure interview questions....\n",
       "6 Amazing culture.\\r\\nWorking with like-minded people.\\r\\nFresh challenges every day.\\r\\nIdeas are always welcomed.\\r\\nGreat career progression.\\r\\nHuge growth.\\r\\nPlenty of opportunities.\\r\\nAwesome product.\\r\\nGlobal team.\\r\\n\\r\\n\\r\\n\"Choose a job you love, and you will never have to work a day in your life.\" - Confucius (Think he must of worked for Xero)                                                                          \n",
       "  rev.cons                                                                                                                                                        \n",
       "1 None , seriously don't change a thing                                                                                                                           \n",
       "2 No cons so far, everything is great so far                                                                                                                      \n",
       "3 As we grow its been difficult to maintain the close knit feel, this is part of the growth process, so if all employees keep that as a priority we will do great!\n",
       "4 Wish I had found Xero sooner.                                                                                                                                   \n",
       "5 None that I'm aware of.                                                                                                                                         \n",
       "6 In a year and a half, I am yet to find one.                                                                                                                     "
      ]
     },
     "metadata": {},
     "output_type": "display_data"
    }
   ],
   "source": [
    "head(df)"
   ]
  },
  {
   "cell_type": "markdown",
   "metadata": {},
   "source": [
    "Using head to do a lookup on the df to see what if the data we scrape is what we intended to scrape."
   ]
  },
  {
   "cell_type": "code",
   "execution_count": 12,
   "metadata": {},
   "outputs": [
    {
     "data": {
      "text/html": [
       "324"
      ],
      "text/latex": [
       "324"
      ],
      "text/markdown": [
       "324"
      ],
      "text/plain": [
       "[1] 324"
      ]
     },
     "metadata": {},
     "output_type": "display_data"
    }
   ],
   "source": [
    "nrow(df)"
   ]
  },
  {
   "cell_type": "code",
   "execution_count": 13,
   "metadata": {},
   "outputs": [],
   "source": [
    "### Save df in CSV\n",
    "write.csv(df, \"../data/xero-glassdoor-output.csv\")"
   ]
  },
  {
   "cell_type": "markdown",
   "metadata": {},
   "source": [
    "Instead of using R for cleaning the data and visualisation, I used a BI tool that I just recently learned.\n",
    "PowerBI is such an awesome, easy to learn and very interactive BI tools that you can do almost anything without or much lesser coding."
   ]
  },
  {
   "cell_type": "markdown",
   "metadata": {},
   "source": [
    "I loaded the CSV file onto the PowerBI."
   ]
  },
  {
   "cell_type": "markdown",
   "metadata": {},
   "source": [
    "<p>\n",
    "    <img src=\"../images/Pros-Cons.jpg\" height=\"455\" width=\"934\">\n",
    "</p>"
   ]
  },
  {
   "cell_type": "markdown",
   "metadata": {},
   "source": [
    "<p>\n",
    "    <img src=\"../images/Line-Graph.jpg\" height=\"300\" width=\"615\">\n",
    "</p>"
   ]
  },
  {
   "cell_type": "markdown",
   "metadata": {},
   "source": [
    "<p>\n",
    "    <img src=\"../images/Bar-Graph.jpg\" height=\"300\" width=\"615\">\n",
    "</p>"
   ]
  },
  {
   "cell_type": "markdown",
   "metadata": {},
   "source": [
    "PowerBI: [Xero Review Dashboard Link Here](https://app.powerbi.com/view?r=eyJrIjoiYjkyYmE4MGItYmQyZC00MGJmLWIzNmMtYTY1MjI5NTcyMmQ0IiwidCI6IjllMWI3ZTBlLTliZjUtNGJhOC1iOWFlLWNkODkzMDI4NmZjZSJ9)"
   ]
  }
 ],
 "metadata": {
  "kernelspec": {
   "display_name": "R",
   "language": "R",
   "name": "ir"
  },
  "language_info": {
   "codemirror_mode": "r",
   "file_extension": ".r",
   "mimetype": "text/x-r-source",
   "name": "R",
   "pygments_lexer": "r",
   "version": "3.5.1"
  }
 },
 "nbformat": 4,
 "nbformat_minor": 2
}
